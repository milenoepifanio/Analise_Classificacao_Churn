{
 "cells": [
  {
   "cell_type": "markdown",
   "id": "6a6843f8",
   "metadata": {},
   "source": [
    "#### Problema de negócio visualizado\n",
    "\n",
    "O banco deseja melhorar seu processo de análise e aprovação de crédito pessoal, identificando padrões que influenciam na decisão de concessão de empréstimos. Atualmente, muitos pedidos são avaliados manualmente ou com base em critérios simples, o que pode resultar em aprovações indevidas ou recusas injustificadas. O objetivo deste projeto é utilizar técnicas de Machine Learning para prever, com base em características  dos clientes, a probabilidade de um empréstimo pessoal ser aprovado ou não."
   ]
  },
  {
   "cell_type": "markdown",
   "id": "2067dd6b",
   "metadata": {},
   "source": [
    "#### Dicionário dos dados\n",
    "O dataset é da Kaggle e possui 14 colunas e 5000 linhas.\n",
    "\n",
    "- ID: Identificador do cliente.\n",
    "- Age : Idade (em anos).\n",
    "- Experience : Experiência de trabalho (em anos).\n",
    "- Income : Renda anual (em milhares).\n",
    "- ZipCode: Código postal da residência.\n",
    "- Family : Número de membros da família.\n",
    "- CCAvg: Média do gasto mensal com cartão de crédito (em milhares).\n",
    "- Education: Nível de escolaridade do cliente.\n",
    "    - 1: Graduação.\n",
    "    - 2: Mestrado.\n",
    "    - 3: Nível Avançado.\n",
    "- Mortgage: Valor do financiamento, se existente (em milhares).\n",
    "- Securities Account : Se o cliente tem ou não ativos ou títulos do banco.\n",
    "- CD Account : Se o cliente tem ou não certificado de depósito bancário do banco.\n",
    "- Online : Se o cliente tem ou não acesso a funcionalidades do Internet Banking.\n",
    "- Credit Card : Se o cliente tem ou não cartão de crédito do banco.\n",
    "- Personal Loan: Se o empréstimo pessoal foi ou não aprovado.\n",
    "    - 0: empréstimo pessoal aprovado.\n",
    "    - 1: empréstimo pessoal não aprovado."
   ]
  },
  {
   "cell_type": "markdown",
   "id": "2a664fea",
   "metadata": {},
   "source": [
    "#### Import das bibliotecas"
   ]
  },
  {
   "cell_type": "code",
   "execution_count": 29,
   "id": "35515331",
   "metadata": {},
   "outputs": [],
   "source": [
    "# Manipulação e visualização de dados\n",
    "import numpy as np\n",
    "import pandas as pd \n",
    "import matplotlib.pyplot as plt\n",
    "import seaborn as sns \n",
    "\n",
    "# Pré-processamento de dados \n",
    "from sklearn.model_selection import train_test_split\n",
    "from sklearn.model_selection import GridSearchCV\n",
    "from sklearn.preprocessing import MinMaxScaler, StandardScaler, RobustScaler, OneHotEncoder\n",
    "from sklearn.pipeline import Pipeline \n",
    "from sklearn.compose import ColumnTransformer\n",
    "from sklearn.base import BaseEstimator, TransformerMixin\n",
    "\n",
    "# Classificadores \n",
    "from sklearn.linear_model import LogisticRegression\n",
    "from sklearn.tree import DecisionTreeClassifier\n",
    "from sklearn.neighbors import KNeighborsClassifier\n",
    "from sklearn.ensemble import AdaBoostClassifier\n",
    "from sklearn.ensemble import RandomForestClassifier\n",
    "import xgboost as xgb\n",
    "\n",
    "# Métricas de desempenho \n",
    "from sklearn.metrics import classification_report\n",
    "from sklearn.metrics import roc_auc_score\n",
    "from sklearn.metrics import precision_score\n",
    "from sklearn.metrics import recall_score\n",
    "from sklearn.metrics import f1_score\n",
    "from sklearn.metrics import roc_curve\n",
    "from sklearn.metrics import precision_recall_curve\n",
    "from sklearn.metrics import accuracy_score\n",
    "from sklearn.metrics import confusion_matrix\n",
    "from sklearn.metrics import ConfusionMatrixDisplay\n",
    "# import shap\n",
    "\n",
    "# Controle de warnings \n",
    "import warnings\n",
    "warnings.filterwarnings('ignore')"
   ]
  },
  {
   "cell_type": "markdown",
   "id": "65f8c990",
   "metadata": {},
   "source": [
    "##### Funções"
   ]
  },
  {
   "cell_type": "code",
   "execution_count": 30,
   "id": "554e3edd",
   "metadata": {},
   "outputs": [],
   "source": [
    "def converter_colunas_para_string(df, colunas):\n",
    "    \"\"\"\n",
    "    Converte as colunas especificadas para string no DataFrame.\n",
    "    \n",
    "    Parâmetros:\n",
    "    - df: DataFrame do pandas\n",
    "    - colunas: lista com os nomes das colunas a serem convertidas\n",
    "    \n",
    "    Retorna:\n",
    "    - DataFrame com as colunas convertidas\n",
    "    \"\"\"\n",
    "    for col in colunas:\n",
    "        if col in df.columns:\n",
    "            df[col] = df[col].astype(str)\n",
    "        else:\n",
    "            print(f\"Coluna '{col}' não foi encontrada no DataFrame.\")\n",
    "    return df"
   ]
  },
  {
   "cell_type": "code",
   "execution_count": null,
   "id": "53bdc6c7",
   "metadata": {},
   "outputs": [],
   "source": []
  },
  {
   "cell_type": "markdown",
   "id": "fd16ca68",
   "metadata": {},
   "source": [
    "#### Carregando os dados\n"
   ]
  },
  {
   "cell_type": "code",
   "execution_count": 31,
   "id": "49bd80de",
   "metadata": {},
   "outputs": [],
   "source": [
    "df = pd.read_parquet(\"../data/dados_banco.parquet\")"
   ]
  },
  {
   "cell_type": "markdown",
   "id": "33eb47cd",
   "metadata": {},
   "source": [
    "#### Analisando dados ausentes"
   ]
  },
  {
   "cell_type": "code",
   "execution_count": 32,
   "id": "915af5ed",
   "metadata": {},
   "outputs": [
    {
     "data": {
      "text/plain": [
       "ID                    5000\n",
       "Age                     45\n",
       "Experience              47\n",
       "Income                 162\n",
       "ZIP.Code               467\n",
       "Family                   4\n",
       "CCAvg                  108\n",
       "Education                3\n",
       "Mortgage               347\n",
       "Personal.Loan            2\n",
       "Securities.Account       2\n",
       "CD.Account               2\n",
       "Online                   2\n",
       "CreditCard               2\n",
       "dtype: int64"
      ]
     },
     "execution_count": 32,
     "metadata": {},
     "output_type": "execute_result"
    }
   ],
   "source": [
    "df.nunique()"
   ]
  },
  {
   "cell_type": "code",
   "execution_count": 33,
   "id": "1aed34d8",
   "metadata": {},
   "outputs": [
    {
     "name": "stdout",
     "output_type": "stream",
     "text": [
      "<class 'pandas.core.frame.DataFrame'>\n",
      "RangeIndex: 5000 entries, 0 to 4999\n",
      "Data columns (total 14 columns):\n",
      " #   Column              Non-Null Count  Dtype  \n",
      "---  ------              --------------  -----  \n",
      " 0   ID                  5000 non-null   int64  \n",
      " 1   Age                 5000 non-null   int64  \n",
      " 2   Experience          5000 non-null   int64  \n",
      " 3   Income              5000 non-null   int64  \n",
      " 4   ZIP.Code            5000 non-null   int64  \n",
      " 5   Family              5000 non-null   int64  \n",
      " 6   CCAvg               5000 non-null   float64\n",
      " 7   Education           5000 non-null   int64  \n",
      " 8   Mortgage            5000 non-null   int64  \n",
      " 9   Personal.Loan       5000 non-null   int64  \n",
      " 10  Securities.Account  5000 non-null   int64  \n",
      " 11  CD.Account          5000 non-null   int64  \n",
      " 12  Online              5000 non-null   int64  \n",
      " 13  CreditCard          5000 non-null   int64  \n",
      "dtypes: float64(1), int64(13)\n",
      "memory usage: 547.0 KB\n"
     ]
    }
   ],
   "source": [
    "df.info()"
   ]
  },
  {
   "cell_type": "markdown",
   "id": "129abb9e",
   "metadata": {},
   "source": [
    "##### Observações\n",
    "- Não há dados repetidos, igualmente dados faltantes nas colunas observadas.\n",
    "- Algumas colunas (como, por ex, Education, Mortgage, Credit Card) foram classificadas como dados numéricos, mas representam categorias, e precisarão ser tratadas no futuro para se encaixarem nas categorias específicas."
   ]
  },
  {
   "cell_type": "code",
   "execution_count": 34,
   "id": "e8553d06",
   "metadata": {},
   "outputs": [],
   "source": [
    "colunas_para_converter = ['ZIP.Code', 'Education', 'Personal.Loan', 'Securities.Account', 'CD.Account', 'Online', 'CreditCard']\n",
    "df = converter_colunas_para_string(df, colunas_para_converter)"
   ]
  },
  {
   "cell_type": "markdown",
   "id": "1fcb3836",
   "metadata": {},
   "source": [
    "##### Exploração dos dados"
   ]
  },
  {
   "cell_type": "code",
   "execution_count": 35,
   "id": "7a13578b",
   "metadata": {},
   "outputs": [
    {
     "data": {
      "text/html": [
       "<div>\n",
       "<style scoped>\n",
       "    .dataframe tbody tr th:only-of-type {\n",
       "        vertical-align: middle;\n",
       "    }\n",
       "\n",
       "    .dataframe tbody tr th {\n",
       "        vertical-align: top;\n",
       "    }\n",
       "\n",
       "    .dataframe thead th {\n",
       "        text-align: right;\n",
       "    }\n",
       "</style>\n",
       "<table border=\"1\" class=\"dataframe\">\n",
       "  <thead>\n",
       "    <tr style=\"text-align: right;\">\n",
       "      <th></th>\n",
       "      <th>ID</th>\n",
       "      <th>Age</th>\n",
       "      <th>Experience</th>\n",
       "      <th>Income</th>\n",
       "      <th>ZIP.Code</th>\n",
       "      <th>Family</th>\n",
       "      <th>CCAvg</th>\n",
       "      <th>Education</th>\n",
       "      <th>Mortgage</th>\n",
       "      <th>Personal.Loan</th>\n",
       "      <th>Securities.Account</th>\n",
       "      <th>CD.Account</th>\n",
       "      <th>Online</th>\n",
       "      <th>CreditCard</th>\n",
       "    </tr>\n",
       "  </thead>\n",
       "  <tbody>\n",
       "    <tr>\n",
       "      <th>0</th>\n",
       "      <td>1</td>\n",
       "      <td>25</td>\n",
       "      <td>1</td>\n",
       "      <td>49</td>\n",
       "      <td>91107</td>\n",
       "      <td>4</td>\n",
       "      <td>1.6</td>\n",
       "      <td>1</td>\n",
       "      <td>0</td>\n",
       "      <td>0</td>\n",
       "      <td>1</td>\n",
       "      <td>0</td>\n",
       "      <td>0</td>\n",
       "      <td>0</td>\n",
       "    </tr>\n",
       "    <tr>\n",
       "      <th>1</th>\n",
       "      <td>2</td>\n",
       "      <td>45</td>\n",
       "      <td>19</td>\n",
       "      <td>34</td>\n",
       "      <td>90089</td>\n",
       "      <td>3</td>\n",
       "      <td>1.5</td>\n",
       "      <td>1</td>\n",
       "      <td>0</td>\n",
       "      <td>0</td>\n",
       "      <td>1</td>\n",
       "      <td>0</td>\n",
       "      <td>0</td>\n",
       "      <td>0</td>\n",
       "    </tr>\n",
       "    <tr>\n",
       "      <th>2</th>\n",
       "      <td>3</td>\n",
       "      <td>39</td>\n",
       "      <td>15</td>\n",
       "      <td>11</td>\n",
       "      <td>94720</td>\n",
       "      <td>1</td>\n",
       "      <td>1.0</td>\n",
       "      <td>1</td>\n",
       "      <td>0</td>\n",
       "      <td>0</td>\n",
       "      <td>0</td>\n",
       "      <td>0</td>\n",
       "      <td>0</td>\n",
       "      <td>0</td>\n",
       "    </tr>\n",
       "    <tr>\n",
       "      <th>3</th>\n",
       "      <td>4</td>\n",
       "      <td>35</td>\n",
       "      <td>9</td>\n",
       "      <td>100</td>\n",
       "      <td>94112</td>\n",
       "      <td>1</td>\n",
       "      <td>2.7</td>\n",
       "      <td>2</td>\n",
       "      <td>0</td>\n",
       "      <td>0</td>\n",
       "      <td>0</td>\n",
       "      <td>0</td>\n",
       "      <td>0</td>\n",
       "      <td>0</td>\n",
       "    </tr>\n",
       "    <tr>\n",
       "      <th>4</th>\n",
       "      <td>5</td>\n",
       "      <td>35</td>\n",
       "      <td>8</td>\n",
       "      <td>45</td>\n",
       "      <td>91330</td>\n",
       "      <td>4</td>\n",
       "      <td>1.0</td>\n",
       "      <td>2</td>\n",
       "      <td>0</td>\n",
       "      <td>0</td>\n",
       "      <td>0</td>\n",
       "      <td>0</td>\n",
       "      <td>0</td>\n",
       "      <td>1</td>\n",
       "    </tr>\n",
       "  </tbody>\n",
       "</table>\n",
       "</div>"
      ],
      "text/plain": [
       "   ID  Age  Experience  Income ZIP.Code  Family  CCAvg Education  Mortgage  \\\n",
       "0   1   25           1      49    91107       4    1.6         1         0   \n",
       "1   2   45          19      34    90089       3    1.5         1         0   \n",
       "2   3   39          15      11    94720       1    1.0         1         0   \n",
       "3   4   35           9     100    94112       1    2.7         2         0   \n",
       "4   5   35           8      45    91330       4    1.0         2         0   \n",
       "\n",
       "  Personal.Loan Securities.Account CD.Account Online CreditCard  \n",
       "0             0                  1          0      0          0  \n",
       "1             0                  1          0      0          0  \n",
       "2             0                  0          0      0          0  \n",
       "3             0                  0          0      0          0  \n",
       "4             0                  0          0      0          1  "
      ]
     },
     "execution_count": 35,
     "metadata": {},
     "output_type": "execute_result"
    }
   ],
   "source": [
    "df.head(5)"
   ]
  },
  {
   "cell_type": "code",
   "execution_count": 36,
   "id": "349d476d",
   "metadata": {},
   "outputs": [
    {
     "data": {
      "text/html": [
       "<div>\n",
       "<style scoped>\n",
       "    .dataframe tbody tr th:only-of-type {\n",
       "        vertical-align: middle;\n",
       "    }\n",
       "\n",
       "    .dataframe tbody tr th {\n",
       "        vertical-align: top;\n",
       "    }\n",
       "\n",
       "    .dataframe thead th {\n",
       "        text-align: right;\n",
       "    }\n",
       "</style>\n",
       "<table border=\"1\" class=\"dataframe\">\n",
       "  <thead>\n",
       "    <tr style=\"text-align: right;\">\n",
       "      <th></th>\n",
       "      <th>count</th>\n",
       "      <th>mean</th>\n",
       "      <th>std</th>\n",
       "      <th>min</th>\n",
       "      <th>25%</th>\n",
       "      <th>50%</th>\n",
       "      <th>75%</th>\n",
       "      <th>max</th>\n",
       "    </tr>\n",
       "  </thead>\n",
       "  <tbody>\n",
       "    <tr>\n",
       "      <th>ID</th>\n",
       "      <td>5000.0</td>\n",
       "      <td>2500.500000</td>\n",
       "      <td>1443.520003</td>\n",
       "      <td>1.0</td>\n",
       "      <td>1250.75</td>\n",
       "      <td>2500.5</td>\n",
       "      <td>3750.25</td>\n",
       "      <td>5000.0</td>\n",
       "    </tr>\n",
       "    <tr>\n",
       "      <th>Age</th>\n",
       "      <td>5000.0</td>\n",
       "      <td>45.338400</td>\n",
       "      <td>11.463166</td>\n",
       "      <td>23.0</td>\n",
       "      <td>35.00</td>\n",
       "      <td>45.0</td>\n",
       "      <td>55.00</td>\n",
       "      <td>67.0</td>\n",
       "    </tr>\n",
       "    <tr>\n",
       "      <th>Experience</th>\n",
       "      <td>5000.0</td>\n",
       "      <td>20.104600</td>\n",
       "      <td>11.467954</td>\n",
       "      <td>-3.0</td>\n",
       "      <td>10.00</td>\n",
       "      <td>20.0</td>\n",
       "      <td>30.00</td>\n",
       "      <td>43.0</td>\n",
       "    </tr>\n",
       "    <tr>\n",
       "      <th>Income</th>\n",
       "      <td>5000.0</td>\n",
       "      <td>73.774200</td>\n",
       "      <td>46.033729</td>\n",
       "      <td>8.0</td>\n",
       "      <td>39.00</td>\n",
       "      <td>64.0</td>\n",
       "      <td>98.00</td>\n",
       "      <td>224.0</td>\n",
       "    </tr>\n",
       "    <tr>\n",
       "      <th>Family</th>\n",
       "      <td>5000.0</td>\n",
       "      <td>2.396400</td>\n",
       "      <td>1.147663</td>\n",
       "      <td>1.0</td>\n",
       "      <td>1.00</td>\n",
       "      <td>2.0</td>\n",
       "      <td>3.00</td>\n",
       "      <td>4.0</td>\n",
       "    </tr>\n",
       "    <tr>\n",
       "      <th>CCAvg</th>\n",
       "      <td>5000.0</td>\n",
       "      <td>1.937938</td>\n",
       "      <td>1.747659</td>\n",
       "      <td>0.0</td>\n",
       "      <td>0.70</td>\n",
       "      <td>1.5</td>\n",
       "      <td>2.50</td>\n",
       "      <td>10.0</td>\n",
       "    </tr>\n",
       "    <tr>\n",
       "      <th>Mortgage</th>\n",
       "      <td>5000.0</td>\n",
       "      <td>56.498800</td>\n",
       "      <td>101.713802</td>\n",
       "      <td>0.0</td>\n",
       "      <td>0.00</td>\n",
       "      <td>0.0</td>\n",
       "      <td>101.00</td>\n",
       "      <td>635.0</td>\n",
       "    </tr>\n",
       "  </tbody>\n",
       "</table>\n",
       "</div>"
      ],
      "text/plain": [
       "             count         mean          std   min      25%     50%      75%  \\\n",
       "ID          5000.0  2500.500000  1443.520003   1.0  1250.75  2500.5  3750.25   \n",
       "Age         5000.0    45.338400    11.463166  23.0    35.00    45.0    55.00   \n",
       "Experience  5000.0    20.104600    11.467954  -3.0    10.00    20.0    30.00   \n",
       "Income      5000.0    73.774200    46.033729   8.0    39.00    64.0    98.00   \n",
       "Family      5000.0     2.396400     1.147663   1.0     1.00     2.0     3.00   \n",
       "CCAvg       5000.0     1.937938     1.747659   0.0     0.70     1.5     2.50   \n",
       "Mortgage    5000.0    56.498800   101.713802   0.0     0.00     0.0   101.00   \n",
       "\n",
       "               max  \n",
       "ID          5000.0  \n",
       "Age           67.0  \n",
       "Experience    43.0  \n",
       "Income       224.0  \n",
       "Family         4.0  \n",
       "CCAvg         10.0  \n",
       "Mortgage     635.0  "
      ]
     },
     "execution_count": 36,
     "metadata": {},
     "output_type": "execute_result"
    }
   ],
   "source": [
    "df.describe().T"
   ]
  },
  {
   "cell_type": "markdown",
   "id": "882a92a8",
   "metadata": {},
   "source": [
    "##### Principais Insights Estatísticos\n",
    "\n",
    "- **Age**: Idade média de 45 anos, variando de 23 a 67.\n",
    "\n",
    "- **Experience**: Média de 20 anos, com valores negativos que indicam dados inválidos.\n",
    "\n",
    "- **Income**: Renda média de US$ 73,7 mil, com grande variação e teto de US$ 224 mil.\n",
    "\n",
    "- **Family**: Tamanho médio da família é 2,4 membros (entre 1 e 4).\n",
    "\n",
    "- **CCAvg**: Gasto médio com cartão é US$ 1.938/mês, podendo chegar a US$ 10 mil.\n",
    "\n",
    "- **Mortgage**: Metade dos clientes não possui financiamento; alguns têm até US$ 635 mil."
   ]
  },
  {
   "cell_type": "code",
   "execution_count": 52,
   "id": "57e8d740",
   "metadata": {},
   "outputs": [
    {
     "name": "stdout",
     "output_type": "stream",
     "text": [
      "0    90.4\n",
      "1     9.6\n",
      "Name: Personal.Loan, dtype: float64\n"
     ]
    }
   ],
   "source": [
    "print(df['Personal.Loan'].value_counts(normalize=True) * 100)"
   ]
  },
  {
   "cell_type": "code",
   "execution_count": null,
   "id": "677b7225",
   "metadata": {},
   "outputs": [
    {
     "data": {
      "image/png": "[encoded data removed]",
      "text/plain": [
       "<Figure size 600x400 with 1 Axes>"
      ]
     },
     "metadata": {},
     "output_type": "display_data"
    }
   ],
   "source": [
    "loan_counts = df['Personal.Loan'].value_counts().sort_index()\n",
    "\n",
    "# Rótulos (0 = Reprovado, 1 = Aprovado)\n",
    "labels = ['Reprovado', 'Aprovado']\n",
    "\n",
    "# Cores\n",
    "colors = ['lightcoral', 'lightgreen']\n",
    "\n",
    "# Plotando o gráfico\n",
    "plt.figure(figsize=(6, 4))\n",
    "plt.bar(labels, loan_counts, color=colors)\n",
    "\n",
    "# Adicionando rótulos e título\n",
    "plt.title('Distribuição de Empréstimos Pessoais')\n",
    "plt.ylabel('Número de Clientes')\n",
    "plt.xlabel('Status do Empréstimo')\n",
    "\n",
    "# Adicionando os valores no topo das barras\n",
    "for i, value in enumerate(loan_counts):\n",
    "    plt.text(i, value + 20, str(value), ha='center')\n",
    "\n",
    "plt.tight_layout()\n",
    "plt.show()"
   ]
  },
  {
   "cell_type": "code",
   "execution_count": null,
   "id": "1a337560",
   "metadata": {},
   "outputs": [],
   "source": []
  }
 ],
 "metadata": {
  "kernelspec": {
   "display_name": "base",
   "language": "python",
   "name": "python3"
  },
  "language_info": {
   "codemirror_mode": {
    "name": "ipython",
    "version": 3
   },
   "file_extension": ".py",
   "mimetype": "text/x-python",
   "name": "python",
   "nbconvert_exporter": "python",
   "pygments_lexer": "ipython3",
   "version": "3.9.13"
  }
 },
 "nbformat": 4,
 "nbformat_minor": 5
}
